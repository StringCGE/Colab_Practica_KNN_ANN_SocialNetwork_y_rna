{
  "nbformat": 4,
  "nbformat_minor": 0,
  "metadata": {
    "colab": {
      "provenance": [],
      "authorship_tag": "ABX9TyNYfNiUi6e1rvkLr2JSTh5R",
      "include_colab_link": true
    },
    "kernelspec": {
      "name": "python3",
      "display_name": "Python 3"
    },
    "language_info": {
      "name": "python"
    }
  },
  "cells": [
    {
      "cell_type": "markdown",
      "metadata": {
        "id": "view-in-github",
        "colab_type": "text"
      },
      "source": [
        "<a href=\"https://colab.research.google.com/github/StringCGE/Colab_Practica_KNN_ANN_SocialNetwork_y_rna/blob/main/TallerCientoquiniento.ipynb\" target=\"_parent\"><img src=\"https://colab.research.google.com/assets/colab-badge.svg\" alt=\"Open In Colab\"/></a>"
      ]
    },
    {
      "cell_type": "markdown",
      "source": [
        "#Deber"
      ],
      "metadata": {
        "id": "I5oexlejb5Ts"
      }
    },
    {
      "cell_type": "markdown",
      "source": [
        "## Metodos"
      ],
      "metadata": {
        "id": "MZBiRckbb9-K"
      }
    },
    {
      "cell_type": "markdown",
      "source": [
        "### Clases"
      ],
      "metadata": {
        "id": "tpbWAvgjfats"
      }
    },
    {
      "cell_type": "code",
      "source": [
        "import numpy as np\n",
        "from sklearn.metrics import confusion_matrix, accuracy_score, classification_report\n",
        "from sklearn.metrics import roc_auc_score, average_precision_score, f1_score, balanced_accuracy_score\n",
        "from sklearn.metrics import cohen_kappa_score, recall_score, jaccard_score, roc_curve, auc\n",
        "from sklearn.calibration import calibration_curve\n",
        "class ClassificationMetrics:\n",
        "    def __init__(self, y_true, y_pred, prob_pos=None, model=None, clases=[0,1]):\n",
        "        self.y_true = y_true\n",
        "        self.y_pred = y_pred\n",
        "        self.prob_pos = prob_pos\n",
        "        self.model = model\n",
        "        self.clases = clases\n",
        "        self.results = None  # Aquí almacenaremos los resultados calculados\n",
        "    def calculate_confusion_matrix(self):\n",
        "        return confusion_matrix(self.y_true, self.y_pred)\n",
        "    def calculate_accuracy(self):\n",
        "        return accuracy_score(self.y_true, self.y_pred)\n",
        "    def calculate_classification_report(self):\n",
        "        return classification_report(self.y_true, self.y_pred)\n",
        "    def calculate_auc_roc(self):\n",
        "        return roc_auc_score(self.y_true, self.y_pred)\n",
        "    def calculate_auc_pr(self):\n",
        "        return average_precision_score(self.y_true, self.y_pred)\n",
        "    def calculate_f1_score(self):\n",
        "        return f1_score(self.y_true, self.y_pred)\n",
        "    def calculate_balanced_accuracy(self):\n",
        "        return balanced_accuracy_score(self.y_true, self.y_pred)\n",
        "    def calculate_cohen_kappa(self):\n",
        "        return cohen_kappa_score(self.y_true, self.y_pred)\n",
        "    def calculate_calibration_curve(self):\n",
        "        if self.model is not None:\n",
        "            if self.prob_pos is None:\n",
        "                self.prob_pos = self.model.predict_proba(self.y_pred)[:, 1]\n",
        "            return self._calculate_calibration_curve()\n",
        "        return None\n",
        "    def calculate_sensitivity_specificity(self):\n",
        "        sensitivity = recall_score(self.y_true, self.y_pred)\n",
        "        specificity = self._calculate_specificity()\n",
        "        return sensitivity, specificity\n",
        "    def calculate_kl_divergence(self):\n",
        "        return self._calculate_kl_divergence()\n",
        "    def calculate_j_index(self):\n",
        "        return jaccard_score(self.y_true, self.y_pred)\n",
        "    def calculate_roc_curve(self):\n",
        "        fpr, tpr, _ = roc_curve(self.y_true, self.y_pred)\n",
        "        roc_auc = auc(fpr, tpr)\n",
        "        return fpr, tpr, roc_auc\n",
        "    def calculate_calibration_curve(self):\n",
        "      prob_true, prob_pred = calibration_curve(self.y_true, self.y_pred, n_bins=10)\n",
        "      return prob_true, prob_pred\n",
        "    # def _calculate_calibration_curve(self):\n",
        "    #     y_true_bin = self.y_true  # Asegúrate de que y_true es un array 1D binario (0 o 1)\n",
        "    #     prob_pos_bin = self.prob_pos  # Asegúrate de que prob_pos es un array 1D de probabilidades\n",
        "    #     prob_true, prob_pred = calibration_curve(y_true_bin, prob_pos_bin, n_bins=10)\n",
        "    #     return prob_true, prob_pred\n",
        "    def _calculate_specificity(self):\n",
        "        sensitivity = recall_score(self.y_true, self.y_pred)\n",
        "        specificity = balanced_accuracy_score(self.y_true, self.y_pred, adjusted=True) - sensitivity\n",
        "        return specificity\n",
        "    def _calculate_kl_divergence(self):\n",
        "        p = np.bincount(self.y_true.astype(int)) / len(self.y_true)\n",
        "        q = np.bincount(self.y_pred.astype(int)) / len(self.y_pred)\n",
        "        kl_divergence = np.sum(np.where(p != 0, p * np.log(p / q), 0))\n",
        "        return kl_divergence\n",
        "    def _calculate_roc_curve(self):\n",
        "        fpr, tpr, _ = roc_curve(self.y_true.values, self.prob_pos.values)\n",
        "        roc_auc = auc(fpr, tpr)\n",
        "        return fpr, tpr, roc_auc\n",
        "    def calculate_metrics(self):\n",
        "        self.results = {\n",
        "            \"confusion_matrix\": self.calculate_confusion_matrix(),\n",
        "            \"accuracy\": self.calculate_accuracy(),\n",
        "            \"classification_report\": self.calculate_classification_report(),\n",
        "            \"auc_roc\": self.calculate_auc_roc(),\n",
        "            \"auc_pr\": self.calculate_auc_pr(),\n",
        "            \"f1_score\": self.calculate_f1_score(),\n",
        "            \"balanced_accuracy\": self.calculate_balanced_accuracy(),\n",
        "            \"cohen_kappa\": self.calculate_cohen_kappa(),\n",
        "            \"calibration_curve\": self.calculate_calibration_curve(),\n",
        "            \"sensitivity_specificity\": self.calculate_sensitivity_specificity(),\n",
        "            \"kl_divergence\": self.calculate_kl_divergence(),\n",
        "            \"j_index\": self.calculate_j_index(),\n",
        "            \"roc_curve\": self.calculate_roc_curve()\n",
        "        }\n",
        "    def print_metrics_summary(self):\n",
        "        if self.results is None:\n",
        "            self.calculate_metrics()\n",
        "\n",
        "        print(\"Matriz de Confusión:\")\n",
        "        print(self.results[\"confusion_matrix\"])\n",
        "        print(\"Precisión:\", self.results[\"accuracy\"])\n",
        "        print(\"Reporte de Clasificación:\")\n",
        "        print(self.results[\"classification_report\"])\n",
        "        print(\"Área Bajo la Curva ROC:\", self.results[\"auc_roc\"])\n",
        "        print(\"Área Bajo la Curva PR:\", self.results[\"auc_pr\"])\n",
        "        print(\"F1-Score:\", self.results[\"f1_score\"])\n",
        "        print(\"Exactitud Balanceada:\", self.results[\"balanced_accuracy\"])\n",
        "        print(\"Coeficiente Kappa de Cohen:\", self.results[\"cohen_kappa\"])\n",
        "        print(\"Curva de Calibración:\")\n",
        "        print(self.results[\"calibration_curve\"])\n",
        "        sensitivity, specificity = self.results[\"sensitivity_specificity\"]\n",
        "        print(\"Sensibilidad:\", sensitivity)\n",
        "        print(\"Especificidad:\", specificity)\n",
        "        print(\"Divergencia de Kullback-Leibler:\", self.results[\"kl_divergence\"])\n",
        "        print(\"Índice J:\", self.results[\"j_index\"])\n",
        "        print(\"Curva ROC:\")\n",
        "        print(self.results[\"roc_curve\"])"
      ],
      "metadata": {
        "id": "XDBCUaFgfjJr"
      },
      "execution_count": 26,
      "outputs": []
    },
    {
      "cell_type": "markdown",
      "source": [
        "### Metodos"
      ],
      "metadata": {
        "id": "zXtMR0rPfojU"
      }
    },
    {
      "cell_type": "code",
      "source": [
        "def InfoDeClasesDataFrame(df):\n",
        "    class_counts = df.iloc[:, -1].value_counts()\n",
        "\n",
        "    total_rows = len(df)\n",
        "    class_percentages = (class_counts / total_rows) * 100\n",
        "\n",
        "    result_df = pd.DataFrame({\n",
        "      'Clase': class_counts.index,\n",
        "      'Cantidad': class_counts.values,\n",
        "      'Porcentaje': class_percentages.values\n",
        "    })\n",
        "    return result_df"
      ],
      "metadata": {
        "id": "Qbnpr6KIesDt"
      },
      "execution_count": 42,
      "outputs": []
    },
    {
      "cell_type": "code",
      "source": [
        "def InfoDeClasesArray(arr):\n",
        "    unique_classes, class_counts = np.unique(arr, return_counts=True)\n",
        "\n",
        "    total_samples = len(arr)\n",
        "    class_percentages = (class_counts / total_samples) * 100\n",
        "\n",
        "    result_df = pd.DataFrame({\n",
        "        'Clase': unique_classes,\n",
        "        'Cantidad': class_counts,\n",
        "        'Porcentaje': class_percentages\n",
        "    })\n",
        "    return result_df"
      ],
      "metadata": {
        "id": "laZQxNAIgh1M"
      },
      "execution_count": 22,
      "outputs": []
    },
    {
      "cell_type": "code",
      "source": [
        "def InfoDeClasesArray(df):\n",
        "    class_counts = df.iloc[:, -1].value_counts()\n",
        "\n",
        "    total_rows = len(df)\n",
        "    class_percentages = (class_counts / total_rows) * 100\n",
        "\n",
        "    result_df = pd.DataFrame({\n",
        "      'Clase': class_counts.index,\n",
        "      'Cantidad': class_counts.values,\n",
        "      'Porcentaje': class_percentages.values\n",
        "    })\n",
        "    return result_df"
      ],
      "metadata": {
        "id": "YTrGtaPBgI-U"
      },
      "execution_count": null,
      "outputs": []
    },
    {
      "cell_type": "code",
      "source": [
        "def plt_curvaROC(cm):\n",
        "    fpr, tpr, roc_auc = cm.calculate_roc_curve()\n",
        "    # Graficar la curva ROC\n",
        "    plt.figure()\n",
        "    plt.plot(fpr, tpr, color='darkorange', lw=2, label='Curva ROC (área = %0.2f)' % roc_auc)\n",
        "    plt.plot([0, 1], [0, 1], color='navy', lw=2, linestyle='--')\n",
        "    plt.xlim([0.0, 1.0])\n",
        "    plt.ylim([0.0, 1.05])\n",
        "    plt.xlabel('Tasa de Falsos Positivos')\n",
        "    plt.ylabel('Tasa de Verdaderos Positivos')\n",
        "    plt.title('Curva ROC')\n",
        "    plt.legend(loc=\"lower right\")\n",
        "    plt.show()"
      ],
      "metadata": {
        "id": "7GxcrNP6cPfb"
      },
      "execution_count": 9,
      "outputs": []
    },
    {
      "cell_type": "code",
      "source": [
        "null = None"
      ],
      "metadata": {
        "id": "ej4XtYrScXjP"
      },
      "execution_count": 43,
      "outputs": []
    },
    {
      "cell_type": "code",
      "source": [
        "import matplotlib.pyplot as plt\n",
        "import seaborn as sns\n",
        "\n",
        "def plt_matriz_confusion(cm):\n",
        "    matriz_confusion = cm.calculate_confusion_matrix()\n",
        "\n",
        "    # Crear una figura para la matriz de confusión\n",
        "    plt.figure(figsize=(8, 6))\n",
        "    sns.heatmap(matriz_confusion, annot=True, fmt=\"d\", cmap=\"Blues\",\n",
        "                xticklabels=cm.clases, yticklabels=cm.clases)\n",
        "\n",
        "    plt.xlabel('Etiqueta Predicha')\n",
        "    plt.ylabel('Etiqueta Verdadera')\n",
        "    plt.title('Matriz de Confusión')\n",
        "    plt.show()"
      ],
      "metadata": {
        "id": "ZatBjGoId2Sn"
      },
      "execution_count": 34,
      "outputs": []
    },
    {
      "cell_type": "markdown",
      "source": [
        "##Del block"
      ],
      "metadata": {
        "id": "Wjkj80jzcDna"
      }
    },
    {
      "cell_type": "code",
      "execution_count": 1,
      "metadata": {
        "id": "ADZgTsHnaYkT"
      },
      "outputs": [],
      "source": [
        "import numpy as np\n",
        "import matplotlib.pyplot as plt\n",
        "import pandas as pd\n",
        "import sklearn"
      ]
    },
    {
      "cell_type": "code",
      "source": [
        "dataset = pd.read_csv('Social_Network_Ads.csv')\n",
        "X = dataset.iloc[:, [1, 2, 3]].values\n",
        "y = dataset.iloc[:, -1].values"
      ],
      "metadata": {
        "id": "UuFJ7FQHbI8W"
      },
      "execution_count": 2,
      "outputs": []
    },
    {
      "cell_type": "code",
      "source": [
        "dataset.head()"
      ],
      "metadata": {
        "colab": {
          "base_uri": "https://localhost:8080/",
          "height": 206
        },
        "id": "7X9DSr5YjLif",
        "outputId": "d41f5935-b971-45dd-9298-4b91b306174c"
      },
      "execution_count": 36,
      "outputs": [
        {
          "output_type": "execute_result",
          "data": {
            "text/plain": [
              "    User ID  Gender  Age  EstimatedSalary  Purchased\n",
              "0  15624510    Male   19            19000          0\n",
              "1  15810944    Male   35            20000          0\n",
              "2  15668575  Female   26            43000          0\n",
              "3  15603246  Female   27            57000          0\n",
              "4  15804002    Male   19            76000          0"
            ],
            "text/html": [
              "\n",
              "\n",
              "  <div id=\"df-8aceeaec-f607-4ab3-a879-f42067355d37\">\n",
              "    <div class=\"colab-df-container\">\n",
              "      <div>\n",
              "<style scoped>\n",
              "    .dataframe tbody tr th:only-of-type {\n",
              "        vertical-align: middle;\n",
              "    }\n",
              "\n",
              "    .dataframe tbody tr th {\n",
              "        vertical-align: top;\n",
              "    }\n",
              "\n",
              "    .dataframe thead th {\n",
              "        text-align: right;\n",
              "    }\n",
              "</style>\n",
              "<table border=\"1\" class=\"dataframe\">\n",
              "  <thead>\n",
              "    <tr style=\"text-align: right;\">\n",
              "      <th></th>\n",
              "      <th>User ID</th>\n",
              "      <th>Gender</th>\n",
              "      <th>Age</th>\n",
              "      <th>EstimatedSalary</th>\n",
              "      <th>Purchased</th>\n",
              "    </tr>\n",
              "  </thead>\n",
              "  <tbody>\n",
              "    <tr>\n",
              "      <th>0</th>\n",
              "      <td>15624510</td>\n",
              "      <td>Male</td>\n",
              "      <td>19</td>\n",
              "      <td>19000</td>\n",
              "      <td>0</td>\n",
              "    </tr>\n",
              "    <tr>\n",
              "      <th>1</th>\n",
              "      <td>15810944</td>\n",
              "      <td>Male</td>\n",
              "      <td>35</td>\n",
              "      <td>20000</td>\n",
              "      <td>0</td>\n",
              "    </tr>\n",
              "    <tr>\n",
              "      <th>2</th>\n",
              "      <td>15668575</td>\n",
              "      <td>Female</td>\n",
              "      <td>26</td>\n",
              "      <td>43000</td>\n",
              "      <td>0</td>\n",
              "    </tr>\n",
              "    <tr>\n",
              "      <th>3</th>\n",
              "      <td>15603246</td>\n",
              "      <td>Female</td>\n",
              "      <td>27</td>\n",
              "      <td>57000</td>\n",
              "      <td>0</td>\n",
              "    </tr>\n",
              "    <tr>\n",
              "      <th>4</th>\n",
              "      <td>15804002</td>\n",
              "      <td>Male</td>\n",
              "      <td>19</td>\n",
              "      <td>76000</td>\n",
              "      <td>0</td>\n",
              "    </tr>\n",
              "  </tbody>\n",
              "</table>\n",
              "</div>\n",
              "      <button class=\"colab-df-convert\" onclick=\"convertToInteractive('df-8aceeaec-f607-4ab3-a879-f42067355d37')\"\n",
              "              title=\"Convert this dataframe to an interactive table.\"\n",
              "              style=\"display:none;\">\n",
              "\n",
              "  <svg xmlns=\"http://www.w3.org/2000/svg\" height=\"24px\"viewBox=\"0 0 24 24\"\n",
              "       width=\"24px\">\n",
              "    <path d=\"M0 0h24v24H0V0z\" fill=\"none\"/>\n",
              "    <path d=\"M18.56 5.44l.94 2.06.94-2.06 2.06-.94-2.06-.94-.94-2.06-.94 2.06-2.06.94zm-11 1L8.5 8.5l.94-2.06 2.06-.94-2.06-.94L8.5 2.5l-.94 2.06-2.06.94zm10 10l.94 2.06.94-2.06 2.06-.94-2.06-.94-.94-2.06-.94 2.06-2.06.94z\"/><path d=\"M17.41 7.96l-1.37-1.37c-.4-.4-.92-.59-1.43-.59-.52 0-1.04.2-1.43.59L10.3 9.45l-7.72 7.72c-.78.78-.78 2.05 0 2.83L4 21.41c.39.39.9.59 1.41.59.51 0 1.02-.2 1.41-.59l7.78-7.78 2.81-2.81c.8-.78.8-2.07 0-2.86zM5.41 20L4 18.59l7.72-7.72 1.47 1.35L5.41 20z\"/>\n",
              "  </svg>\n",
              "      </button>\n",
              "\n",
              "\n",
              "\n",
              "    <div id=\"df-e11f1981-774a-4247-a1c4-44efc6988774\">\n",
              "      <button class=\"colab-df-quickchart\" onclick=\"quickchart('df-e11f1981-774a-4247-a1c4-44efc6988774')\"\n",
              "              title=\"Suggest charts.\"\n",
              "              style=\"display:none;\">\n",
              "\n",
              "<svg xmlns=\"http://www.w3.org/2000/svg\" height=\"24px\"viewBox=\"0 0 24 24\"\n",
              "     width=\"24px\">\n",
              "    <g>\n",
              "        <path d=\"M19 3H5c-1.1 0-2 .9-2 2v14c0 1.1.9 2 2 2h14c1.1 0 2-.9 2-2V5c0-1.1-.9-2-2-2zM9 17H7v-7h2v7zm4 0h-2V7h2v10zm4 0h-2v-4h2v4z\"/>\n",
              "    </g>\n",
              "</svg>\n",
              "      </button>\n",
              "    </div>\n",
              "\n",
              "<style>\n",
              "  .colab-df-quickchart {\n",
              "    background-color: #E8F0FE;\n",
              "    border: none;\n",
              "    border-radius: 50%;\n",
              "    cursor: pointer;\n",
              "    display: none;\n",
              "    fill: #1967D2;\n",
              "    height: 32px;\n",
              "    padding: 0 0 0 0;\n",
              "    width: 32px;\n",
              "  }\n",
              "\n",
              "  .colab-df-quickchart:hover {\n",
              "    background-color: #E2EBFA;\n",
              "    box-shadow: 0px 1px 2px rgba(60, 64, 67, 0.3), 0px 1px 3px 1px rgba(60, 64, 67, 0.15);\n",
              "    fill: #174EA6;\n",
              "  }\n",
              "\n",
              "  [theme=dark] .colab-df-quickchart {\n",
              "    background-color: #3B4455;\n",
              "    fill: #D2E3FC;\n",
              "  }\n",
              "\n",
              "  [theme=dark] .colab-df-quickchart:hover {\n",
              "    background-color: #434B5C;\n",
              "    box-shadow: 0px 1px 3px 1px rgba(0, 0, 0, 0.15);\n",
              "    filter: drop-shadow(0px 1px 2px rgba(0, 0, 0, 0.3));\n",
              "    fill: #FFFFFF;\n",
              "  }\n",
              "</style>\n",
              "\n",
              "    <script>\n",
              "      async function quickchart(key) {\n",
              "        const containerElement = document.querySelector('#' + key);\n",
              "        const charts = await google.colab.kernel.invokeFunction(\n",
              "            'suggestCharts', [key], {});\n",
              "      }\n",
              "    </script>\n",
              "\n",
              "\n",
              "      <script>\n",
              "\n",
              "function displayQuickchartButton(domScope) {\n",
              "  let quickchartButtonEl =\n",
              "    domScope.querySelector('#df-e11f1981-774a-4247-a1c4-44efc6988774 button.colab-df-quickchart');\n",
              "  quickchartButtonEl.style.display =\n",
              "    google.colab.kernel.accessAllowed ? 'block' : 'none';\n",
              "}\n",
              "\n",
              "        displayQuickchartButton(document);\n",
              "      </script>\n",
              "      <style>\n",
              "    .colab-df-container {\n",
              "      display:flex;\n",
              "      flex-wrap:wrap;\n",
              "      gap: 12px;\n",
              "    }\n",
              "\n",
              "    .colab-df-convert {\n",
              "      background-color: #E8F0FE;\n",
              "      border: none;\n",
              "      border-radius: 50%;\n",
              "      cursor: pointer;\n",
              "      display: none;\n",
              "      fill: #1967D2;\n",
              "      height: 32px;\n",
              "      padding: 0 0 0 0;\n",
              "      width: 32px;\n",
              "    }\n",
              "\n",
              "    .colab-df-convert:hover {\n",
              "      background-color: #E2EBFA;\n",
              "      box-shadow: 0px 1px 2px rgba(60, 64, 67, 0.3), 0px 1px 3px 1px rgba(60, 64, 67, 0.15);\n",
              "      fill: #174EA6;\n",
              "    }\n",
              "\n",
              "    [theme=dark] .colab-df-convert {\n",
              "      background-color: #3B4455;\n",
              "      fill: #D2E3FC;\n",
              "    }\n",
              "\n",
              "    [theme=dark] .colab-df-convert:hover {\n",
              "      background-color: #434B5C;\n",
              "      box-shadow: 0px 1px 3px 1px rgba(0, 0, 0, 0.15);\n",
              "      filter: drop-shadow(0px 1px 2px rgba(0, 0, 0, 0.3));\n",
              "      fill: #FFFFFF;\n",
              "    }\n",
              "  </style>\n",
              "\n",
              "      <script>\n",
              "        const buttonEl =\n",
              "          document.querySelector('#df-8aceeaec-f607-4ab3-a879-f42067355d37 button.colab-df-convert');\n",
              "        buttonEl.style.display =\n",
              "          google.colab.kernel.accessAllowed ? 'block' : 'none';\n",
              "\n",
              "        async function convertToInteractive(key) {\n",
              "          const element = document.querySelector('#df-8aceeaec-f607-4ab3-a879-f42067355d37');\n",
              "          const dataTable =\n",
              "            await google.colab.kernel.invokeFunction('convertToInteractive',\n",
              "                                                     [key], {});\n",
              "          if (!dataTable) return;\n",
              "\n",
              "          const docLinkHtml = 'Like what you see? Visit the ' +\n",
              "            '<a target=\"_blank\" href=https://colab.research.google.com/notebooks/data_table.ipynb>data table notebook</a>'\n",
              "            + ' to learn more about interactive tables.';\n",
              "          element.innerHTML = '';\n",
              "          dataTable['output_type'] = 'display_data';\n",
              "          await google.colab.output.renderOutput(dataTable, element);\n",
              "          const docLink = document.createElement('div');\n",
              "          docLink.innerHTML = docLinkHtml;\n",
              "          element.appendChild(docLink);\n",
              "        }\n",
              "      </script>\n",
              "    </div>\n",
              "  </div>\n"
            ]
          },
          "metadata": {},
          "execution_count": 36
        }
      ]
    },
    {
      "cell_type": "code",
      "source": [
        "from sklearn.preprocessing import LabelEncoder\n",
        "le = LabelEncoder()\n",
        "X[:,0] = le.fit_transform(X[:,0])"
      ],
      "metadata": {
        "id": "2IIRiy_0bOje"
      },
      "execution_count": 3,
      "outputs": []
    },
    {
      "cell_type": "code",
      "source": [
        "from sklearn.model_selection import train_test_split\n",
        "X_train, X_test, y_train, y_test = train_test_split(X, y, test_size = 0.20, random_state = 0)"
      ],
      "metadata": {
        "id": "d5lA9lvzbRlg"
      },
      "execution_count": 4,
      "outputs": []
    },
    {
      "cell_type": "code",
      "source": [
        "from sklearn.preprocessing import StandardScaler\n",
        "sc = StandardScaler()\n",
        "X_train = sc.fit_transform(X_train)\n",
        "X_test = sc.transform(X_test)"
      ],
      "metadata": {
        "id": "opsK_9TobV-c"
      },
      "execution_count": 5,
      "outputs": []
    },
    {
      "cell_type": "code",
      "source": [
        "from sklearn.neighbors import KNeighborsClassifier\n",
        "classifier = KNeighborsClassifier(n_neighbors = 5, metric = 'minkowski', p = 2)\n",
        "classifier.fit(X_train, y_train)"
      ],
      "metadata": {
        "colab": {
          "base_uri": "https://localhost:8080/",
          "height": 75
        },
        "id": "iyRe20TBbYbs",
        "outputId": "319be6d1-5c35-4791-f04f-40dda05742fb"
      },
      "execution_count": 6,
      "outputs": [
        {
          "output_type": "execute_result",
          "data": {
            "text/plain": [
              "KNeighborsClassifier()"
            ],
            "text/html": [
              "<style>#sk-container-id-1 {color: black;background-color: white;}#sk-container-id-1 pre{padding: 0;}#sk-container-id-1 div.sk-toggleable {background-color: white;}#sk-container-id-1 label.sk-toggleable__label {cursor: pointer;display: block;width: 100%;margin-bottom: 0;padding: 0.3em;box-sizing: border-box;text-align: center;}#sk-container-id-1 label.sk-toggleable__label-arrow:before {content: \"▸\";float: left;margin-right: 0.25em;color: #696969;}#sk-container-id-1 label.sk-toggleable__label-arrow:hover:before {color: black;}#sk-container-id-1 div.sk-estimator:hover label.sk-toggleable__label-arrow:before {color: black;}#sk-container-id-1 div.sk-toggleable__content {max-height: 0;max-width: 0;overflow: hidden;text-align: left;background-color: #f0f8ff;}#sk-container-id-1 div.sk-toggleable__content pre {margin: 0.2em;color: black;border-radius: 0.25em;background-color: #f0f8ff;}#sk-container-id-1 input.sk-toggleable__control:checked~div.sk-toggleable__content {max-height: 200px;max-width: 100%;overflow: auto;}#sk-container-id-1 input.sk-toggleable__control:checked~label.sk-toggleable__label-arrow:before {content: \"▾\";}#sk-container-id-1 div.sk-estimator input.sk-toggleable__control:checked~label.sk-toggleable__label {background-color: #d4ebff;}#sk-container-id-1 div.sk-label input.sk-toggleable__control:checked~label.sk-toggleable__label {background-color: #d4ebff;}#sk-container-id-1 input.sk-hidden--visually {border: 0;clip: rect(1px 1px 1px 1px);clip: rect(1px, 1px, 1px, 1px);height: 1px;margin: -1px;overflow: hidden;padding: 0;position: absolute;width: 1px;}#sk-container-id-1 div.sk-estimator {font-family: monospace;background-color: #f0f8ff;border: 1px dotted black;border-radius: 0.25em;box-sizing: border-box;margin-bottom: 0.5em;}#sk-container-id-1 div.sk-estimator:hover {background-color: #d4ebff;}#sk-container-id-1 div.sk-parallel-item::after {content: \"\";width: 100%;border-bottom: 1px solid gray;flex-grow: 1;}#sk-container-id-1 div.sk-label:hover label.sk-toggleable__label {background-color: #d4ebff;}#sk-container-id-1 div.sk-serial::before {content: \"\";position: absolute;border-left: 1px solid gray;box-sizing: border-box;top: 0;bottom: 0;left: 50%;z-index: 0;}#sk-container-id-1 div.sk-serial {display: flex;flex-direction: column;align-items: center;background-color: white;padding-right: 0.2em;padding-left: 0.2em;position: relative;}#sk-container-id-1 div.sk-item {position: relative;z-index: 1;}#sk-container-id-1 div.sk-parallel {display: flex;align-items: stretch;justify-content: center;background-color: white;position: relative;}#sk-container-id-1 div.sk-item::before, #sk-container-id-1 div.sk-parallel-item::before {content: \"\";position: absolute;border-left: 1px solid gray;box-sizing: border-box;top: 0;bottom: 0;left: 50%;z-index: -1;}#sk-container-id-1 div.sk-parallel-item {display: flex;flex-direction: column;z-index: 1;position: relative;background-color: white;}#sk-container-id-1 div.sk-parallel-item:first-child::after {align-self: flex-end;width: 50%;}#sk-container-id-1 div.sk-parallel-item:last-child::after {align-self: flex-start;width: 50%;}#sk-container-id-1 div.sk-parallel-item:only-child::after {width: 0;}#sk-container-id-1 div.sk-dashed-wrapped {border: 1px dashed gray;margin: 0 0.4em 0.5em 0.4em;box-sizing: border-box;padding-bottom: 0.4em;background-color: white;}#sk-container-id-1 div.sk-label label {font-family: monospace;font-weight: bold;display: inline-block;line-height: 1.2em;}#sk-container-id-1 div.sk-label-container {text-align: center;}#sk-container-id-1 div.sk-container {/* jupyter's `normalize.less` sets `[hidden] { display: none; }` but bootstrap.min.css set `[hidden] { display: none !important; }` so we also need the `!important` here to be able to override the default hidden behavior on the sphinx rendered scikit-learn.org. See: https://github.com/scikit-learn/scikit-learn/issues/21755 */display: inline-block !important;position: relative;}#sk-container-id-1 div.sk-text-repr-fallback {display: none;}</style><div id=\"sk-container-id-1\" class=\"sk-top-container\"><div class=\"sk-text-repr-fallback\"><pre>KNeighborsClassifier()</pre><b>In a Jupyter environment, please rerun this cell to show the HTML representation or trust the notebook. <br />On GitHub, the HTML representation is unable to render, please try loading this page with nbviewer.org.</b></div><div class=\"sk-container\" hidden><div class=\"sk-item\"><div class=\"sk-estimator sk-toggleable\"><input class=\"sk-toggleable__control sk-hidden--visually\" id=\"sk-estimator-id-1\" type=\"checkbox\" checked><label for=\"sk-estimator-id-1\" class=\"sk-toggleable__label sk-toggleable__label-arrow\">KNeighborsClassifier</label><div class=\"sk-toggleable__content\"><pre>KNeighborsClassifier()</pre></div></div></div></div></div>"
            ]
          },
          "metadata": {},
          "execution_count": 6
        }
      ]
    },
    {
      "cell_type": "code",
      "source": [
        "y_pred = classifier.predict(X_test)"
      ],
      "metadata": {
        "id": "ioD_wKWhbe8n"
      },
      "execution_count": 7,
      "outputs": []
    },
    {
      "cell_type": "code",
      "source": [
        "from sklearn.metrics import confusion_matrix,accuracy_score\n",
        "cm = confusion_matrix(y_test, y_pred)\n",
        "ac = accuracy_score(y_test,y_pred)"
      ],
      "metadata": {
        "id": "LD_WE78dbjRA"
      },
      "execution_count": 8,
      "outputs": []
    },
    {
      "cell_type": "markdown",
      "source": [
        "## Mi parte"
      ],
      "metadata": {
        "id": "JMsQUpFVcK62"
      }
    },
    {
      "cell_type": "code",
      "source": [
        "InfoDeClasesArray(y_test)"
      ],
      "metadata": {
        "colab": {
          "base_uri": "https://localhost:8080/",
          "height": 112
        },
        "id": "p9TJ8uOHfyy1",
        "outputId": "c46b0c03-cdc4-4da0-eb1d-7acf699e8537"
      },
      "execution_count": 23,
      "outputs": [
        {
          "output_type": "execute_result",
          "data": {
            "text/plain": [
              "   Clase  Cantidad  Porcentaje\n",
              "0      0        58        72.5\n",
              "1      1        22        27.5"
            ],
            "text/html": [
              "\n",
              "\n",
              "  <div id=\"df-b80268c8-b851-44c3-a314-76e075b1782a\">\n",
              "    <div class=\"colab-df-container\">\n",
              "      <div>\n",
              "<style scoped>\n",
              "    .dataframe tbody tr th:only-of-type {\n",
              "        vertical-align: middle;\n",
              "    }\n",
              "\n",
              "    .dataframe tbody tr th {\n",
              "        vertical-align: top;\n",
              "    }\n",
              "\n",
              "    .dataframe thead th {\n",
              "        text-align: right;\n",
              "    }\n",
              "</style>\n",
              "<table border=\"1\" class=\"dataframe\">\n",
              "  <thead>\n",
              "    <tr style=\"text-align: right;\">\n",
              "      <th></th>\n",
              "      <th>Clase</th>\n",
              "      <th>Cantidad</th>\n",
              "      <th>Porcentaje</th>\n",
              "    </tr>\n",
              "  </thead>\n",
              "  <tbody>\n",
              "    <tr>\n",
              "      <th>0</th>\n",
              "      <td>0</td>\n",
              "      <td>58</td>\n",
              "      <td>72.5</td>\n",
              "    </tr>\n",
              "    <tr>\n",
              "      <th>1</th>\n",
              "      <td>1</td>\n",
              "      <td>22</td>\n",
              "      <td>27.5</td>\n",
              "    </tr>\n",
              "  </tbody>\n",
              "</table>\n",
              "</div>\n",
              "      <button class=\"colab-df-convert\" onclick=\"convertToInteractive('df-b80268c8-b851-44c3-a314-76e075b1782a')\"\n",
              "              title=\"Convert this dataframe to an interactive table.\"\n",
              "              style=\"display:none;\">\n",
              "\n",
              "  <svg xmlns=\"http://www.w3.org/2000/svg\" height=\"24px\"viewBox=\"0 0 24 24\"\n",
              "       width=\"24px\">\n",
              "    <path d=\"M0 0h24v24H0V0z\" fill=\"none\"/>\n",
              "    <path d=\"M18.56 5.44l.94 2.06.94-2.06 2.06-.94-2.06-.94-.94-2.06-.94 2.06-2.06.94zm-11 1L8.5 8.5l.94-2.06 2.06-.94-2.06-.94L8.5 2.5l-.94 2.06-2.06.94zm10 10l.94 2.06.94-2.06 2.06-.94-2.06-.94-.94-2.06-.94 2.06-2.06.94z\"/><path d=\"M17.41 7.96l-1.37-1.37c-.4-.4-.92-.59-1.43-.59-.52 0-1.04.2-1.43.59L10.3 9.45l-7.72 7.72c-.78.78-.78 2.05 0 2.83L4 21.41c.39.39.9.59 1.41.59.51 0 1.02-.2 1.41-.59l7.78-7.78 2.81-2.81c.8-.78.8-2.07 0-2.86zM5.41 20L4 18.59l7.72-7.72 1.47 1.35L5.41 20z\"/>\n",
              "  </svg>\n",
              "      </button>\n",
              "\n",
              "\n",
              "\n",
              "    <div id=\"df-c21ce6d6-5386-4caf-9b68-1b69a327f04f\">\n",
              "      <button class=\"colab-df-quickchart\" onclick=\"quickchart('df-c21ce6d6-5386-4caf-9b68-1b69a327f04f')\"\n",
              "              title=\"Suggest charts.\"\n",
              "              style=\"display:none;\">\n",
              "\n",
              "<svg xmlns=\"http://www.w3.org/2000/svg\" height=\"24px\"viewBox=\"0 0 24 24\"\n",
              "     width=\"24px\">\n",
              "    <g>\n",
              "        <path d=\"M19 3H5c-1.1 0-2 .9-2 2v14c0 1.1.9 2 2 2h14c1.1 0 2-.9 2-2V5c0-1.1-.9-2-2-2zM9 17H7v-7h2v7zm4 0h-2V7h2v10zm4 0h-2v-4h2v4z\"/>\n",
              "    </g>\n",
              "</svg>\n",
              "      </button>\n",
              "    </div>\n",
              "\n",
              "<style>\n",
              "  .colab-df-quickchart {\n",
              "    background-color: #E8F0FE;\n",
              "    border: none;\n",
              "    border-radius: 50%;\n",
              "    cursor: pointer;\n",
              "    display: none;\n",
              "    fill: #1967D2;\n",
              "    height: 32px;\n",
              "    padding: 0 0 0 0;\n",
              "    width: 32px;\n",
              "  }\n",
              "\n",
              "  .colab-df-quickchart:hover {\n",
              "    background-color: #E2EBFA;\n",
              "    box-shadow: 0px 1px 2px rgba(60, 64, 67, 0.3), 0px 1px 3px 1px rgba(60, 64, 67, 0.15);\n",
              "    fill: #174EA6;\n",
              "  }\n",
              "\n",
              "  [theme=dark] .colab-df-quickchart {\n",
              "    background-color: #3B4455;\n",
              "    fill: #D2E3FC;\n",
              "  }\n",
              "\n",
              "  [theme=dark] .colab-df-quickchart:hover {\n",
              "    background-color: #434B5C;\n",
              "    box-shadow: 0px 1px 3px 1px rgba(0, 0, 0, 0.15);\n",
              "    filter: drop-shadow(0px 1px 2px rgba(0, 0, 0, 0.3));\n",
              "    fill: #FFFFFF;\n",
              "  }\n",
              "</style>\n",
              "\n",
              "    <script>\n",
              "      async function quickchart(key) {\n",
              "        const containerElement = document.querySelector('#' + key);\n",
              "        const charts = await google.colab.kernel.invokeFunction(\n",
              "            'suggestCharts', [key], {});\n",
              "      }\n",
              "    </script>\n",
              "\n",
              "\n",
              "      <script>\n",
              "\n",
              "function displayQuickchartButton(domScope) {\n",
              "  let quickchartButtonEl =\n",
              "    domScope.querySelector('#df-c21ce6d6-5386-4caf-9b68-1b69a327f04f button.colab-df-quickchart');\n",
              "  quickchartButtonEl.style.display =\n",
              "    google.colab.kernel.accessAllowed ? 'block' : 'none';\n",
              "}\n",
              "\n",
              "        displayQuickchartButton(document);\n",
              "      </script>\n",
              "      <style>\n",
              "    .colab-df-container {\n",
              "      display:flex;\n",
              "      flex-wrap:wrap;\n",
              "      gap: 12px;\n",
              "    }\n",
              "\n",
              "    .colab-df-convert {\n",
              "      background-color: #E8F0FE;\n",
              "      border: none;\n",
              "      border-radius: 50%;\n",
              "      cursor: pointer;\n",
              "      display: none;\n",
              "      fill: #1967D2;\n",
              "      height: 32px;\n",
              "      padding: 0 0 0 0;\n",
              "      width: 32px;\n",
              "    }\n",
              "\n",
              "    .colab-df-convert:hover {\n",
              "      background-color: #E2EBFA;\n",
              "      box-shadow: 0px 1px 2px rgba(60, 64, 67, 0.3), 0px 1px 3px 1px rgba(60, 64, 67, 0.15);\n",
              "      fill: #174EA6;\n",
              "    }\n",
              "\n",
              "    [theme=dark] .colab-df-convert {\n",
              "      background-color: #3B4455;\n",
              "      fill: #D2E3FC;\n",
              "    }\n",
              "\n",
              "    [theme=dark] .colab-df-convert:hover {\n",
              "      background-color: #434B5C;\n",
              "      box-shadow: 0px 1px 3px 1px rgba(0, 0, 0, 0.15);\n",
              "      filter: drop-shadow(0px 1px 2px rgba(0, 0, 0, 0.3));\n",
              "      fill: #FFFFFF;\n",
              "    }\n",
              "  </style>\n",
              "\n",
              "      <script>\n",
              "        const buttonEl =\n",
              "          document.querySelector('#df-b80268c8-b851-44c3-a314-76e075b1782a button.colab-df-convert');\n",
              "        buttonEl.style.display =\n",
              "          google.colab.kernel.accessAllowed ? 'block' : 'none';\n",
              "\n",
              "        async function convertToInteractive(key) {\n",
              "          const element = document.querySelector('#df-b80268c8-b851-44c3-a314-76e075b1782a');\n",
              "          const dataTable =\n",
              "            await google.colab.kernel.invokeFunction('convertToInteractive',\n",
              "                                                     [key], {});\n",
              "          if (!dataTable) return;\n",
              "\n",
              "          const docLinkHtml = 'Like what you see? Visit the ' +\n",
              "            '<a target=\"_blank\" href=https://colab.research.google.com/notebooks/data_table.ipynb>data table notebook</a>'\n",
              "            + ' to learn more about interactive tables.';\n",
              "          element.innerHTML = '';\n",
              "          dataTable['output_type'] = 'display_data';\n",
              "          await google.colab.output.renderOutput(dataTable, element);\n",
              "          const docLink = document.createElement('div');\n",
              "          docLink.innerHTML = docLinkHtml;\n",
              "          element.appendChild(docLink);\n",
              "        }\n",
              "      </script>\n",
              "    </div>\n",
              "  </div>\n"
            ]
          },
          "metadata": {},
          "execution_count": 23
        }
      ]
    },
    {
      "cell_type": "code",
      "source": [
        "metrics = ClassificationMetrics(y_test, y_pred, model=classifier, clases=[0, 1])\n",
        "\n",
        "# Calcular y mostrar las métricas\n",
        "metrics.print_metrics_summary()\n",
        "plt_curvaROC(metrics)\n",
        "plt_matriz_confusion(metrics)"
      ],
      "metadata": {
        "colab": {
          "base_uri": "https://localhost:8080/",
          "height": 1000
        },
        "id": "9rtZkoE_cKmF",
        "outputId": "c9971e77-7033-45f7-a039-00cb81a009b2"
      },
      "execution_count": 35,
      "outputs": [
        {
          "output_type": "stream",
          "name": "stdout",
          "text": [
            "Matriz de Confusión:\n",
            "[[55  3]\n",
            " [ 1 21]]\n",
            "Precisión: 0.95\n",
            "Reporte de Clasificación:\n",
            "              precision    recall  f1-score   support\n",
            "\n",
            "           0       0.98      0.95      0.96        58\n",
            "           1       0.88      0.95      0.91        22\n",
            "\n",
            "    accuracy                           0.95        80\n",
            "   macro avg       0.93      0.95      0.94        80\n",
            "weighted avg       0.95      0.95      0.95        80\n",
            "\n",
            "Área Bajo la Curva ROC: 0.95141065830721\n",
            "Área Bajo la Curva PR: 0.8477272727272727\n",
            "F1-Score: 0.9130434782608695\n",
            "Exactitud Balanceada: 0.95141065830721\n",
            "Coeficiente Kappa de Cohen: 0.8780487804878049\n",
            "Curva de Calibración:\n",
            "(array([0.01785714, 0.875     ]), array([0., 1.]))\n",
            "Sensibilidad: 0.9545454545454546\n",
            "Especificidad: -0.051724137931034475\n",
            "Divergencia de Kullback-Leibler: 0.001513078191022723\n",
            "Índice J: 0.84\n",
            "Curva ROC:\n",
            "(array([0.        , 0.05172414, 1.        ]), array([0.        , 0.95454545, 1.        ]), 0.95141065830721)\n"
          ]
        },
        {
          "output_type": "display_data",
          "data": {
            "text/plain": [
              "<Figure size 640x480 with 1 Axes>"
            ],
            "image/png": "[encoded data removed]"
          },
          "metadata": {}
        },
        {
          "output_type": "display_data",
          "data": {
            "text/plain": [
              "<Figure size 800x600 with 2 Axes>"
            ],
            "image/png": "[encoded data removed]"
          },
          "metadata": {}
        }
      ]
    },
    {
      "cell_type": "markdown",
      "source": [
        "### Aplicando red neuronal artificial"
      ],
      "metadata": {
        "id": "qinyhCFFjltY"
      }
    },
    {
      "cell_type": "code",
      "source": [
        "import numpy as np\n",
        "import pandas as pd\n",
        "import matplotlib.pyplot as plt\n",
        "from sklearn.model_selection import train_test_split\n",
        "from sklearn.preprocessing import StandardScaler\n",
        "from sklearn.neural_network import MLPClassifier\n",
        "from sklearn.metrics import roc_curve, auc\n",
        "import seaborn as sns\n",
        "\n",
        "# data = pd.read_csv(\"Social_Network_Ads.csv\")\n",
        "\n",
        "# # Seleccionar características y etiquetas\n",
        "# X = data.iloc[:, 2:4].values  # Seleccionar Age y EstimatedSalary como características\n",
        "# y = data.iloc[:, -1].values   # Seleccionar la columna Purchased como etiquetas\n",
        "\n",
        "# # Dividir el conjunto de datos en entrenamiento y prueba\n",
        "# X_train, X_test, y_train, y_test = train_test_split(X, y, test_size=0.2, random_state=42)\n",
        "\n",
        "# Escalar las características\n",
        "scaler = StandardScaler()\n",
        "X_train_scaled = scaler.fit_transform(X_train)\n",
        "X_test_scaled = scaler.transform(X_test)\n",
        "\n",
        "# Crear y entrenar la Red Neuronal Artificial (RNA)\n",
        "rna = MLPClassifier(hidden_layer_sizes=(50,), max_iter=1000, random_state=42)\n",
        "rna.fit(X_train_scaled, y_train)\n",
        "\n",
        "# Predecir etiquetas en el conjunto de prueba\n",
        "y_pred_rna = rna.predict(X_test_scaled)\n",
        "\n",
        "# # Calcular la curva ROC para la RNA\n",
        "# fpr_rna, tpr_rna, _ = roc_curve(y_test, y_pred_rna)\n",
        "# roc_auc_rna = auc(fpr_rna, tpr_rna)\n",
        "\n",
        "# # Función para graficar la curva ROC\n",
        "# def plot_roc_curve(fpr, tpr, roc_auc):\n",
        "#     plt.figure()\n",
        "#     plt.plot(fpr, tpr, color='darkorange', lw=2, label='Curva ROC (área = %0.2f)' % roc_auc)\n",
        "#     plt.plot([0, 1], [0, 1], color='navy', lw=2, linestyle='--')\n",
        "#     plt.xlim([0.0, 1.0])\n",
        "#     plt.ylim([0.0, 1.05])\n",
        "#     plt.xlabel('Tasa de Falsos Positivos')\n",
        "#     plt.ylabel('Tasa de Verdaderos Positivos')\n",
        "#     plt.title('Curva ROC - Red Neuronal Artificial')\n",
        "#     plt.legend(loc=\"lower right\")\n",
        "#     plt.show()\n",
        "\n",
        "# # Mostrar la curva ROC de la RNA\n",
        "# plot_roc_curve(fpr_rna, tpr_rna, roc_auc_rna)"
      ],
      "metadata": {
        "id": "3gTF0hbvjqBZ"
      },
      "execution_count": 40,
      "outputs": []
    },
    {
      "cell_type": "code",
      "source": [
        "rna_metrics = ClassificationMetrics(y_test, y_pred, model=classifier, clases=[0, 1])\n",
        "\n",
        "# Calcular y mostrar las métricas\n",
        "rna_metrics.print_metrics_summary()\n",
        "plt_curvaROC(rna_metrics)\n",
        "plt_matriz_confusion(rna_metrics)"
      ],
      "metadata": {
        "colab": {
          "base_uri": "https://localhost:8080/",
          "height": 1000
        },
        "id": "nKel1S22kGqu",
        "outputId": "8855d9cd-5d5c-423f-9c9a-cc20b95c6055"
      },
      "execution_count": 41,
      "outputs": [
        {
          "output_type": "stream",
          "name": "stdout",
          "text": [
            "Matriz de Confusión:\n",
            "[[55  3]\n",
            " [ 1 21]]\n",
            "Precisión: 0.95\n",
            "Reporte de Clasificación:\n",
            "              precision    recall  f1-score   support\n",
            "\n",
            "           0       0.98      0.95      0.96        58\n",
            "           1       0.88      0.95      0.91        22\n",
            "\n",
            "    accuracy                           0.95        80\n",
            "   macro avg       0.93      0.95      0.94        80\n",
            "weighted avg       0.95      0.95      0.95        80\n",
            "\n",
            "Área Bajo la Curva ROC: 0.95141065830721\n",
            "Área Bajo la Curva PR: 0.8477272727272727\n",
            "F1-Score: 0.9130434782608695\n",
            "Exactitud Balanceada: 0.95141065830721\n",
            "Coeficiente Kappa de Cohen: 0.8780487804878049\n",
            "Curva de Calibración:\n",
            "(array([0.01785714, 0.875     ]), array([0., 1.]))\n",
            "Sensibilidad: 0.9545454545454546\n",
            "Especificidad: -0.051724137931034475\n",
            "Divergencia de Kullback-Leibler: 0.001513078191022723\n",
            "Índice J: 0.84\n",
            "Curva ROC:\n",
            "(array([0.        , 0.05172414, 1.        ]), array([0.        , 0.95454545, 1.        ]), 0.95141065830721)\n"
          ]
        },
        {
          "output_type": "display_data",
          "data": {
            "text/plain": [
              "<Figure size 640x480 with 1 Axes>"
            ],
            "image/png": "[encoded data removed]"
          },
          "metadata": {}
        },
        {
          "output_type": "display_data",
          "data": {
            "text/plain": [
              "<Figure size 800x600 with 2 Axes>"
            ],
            "image/png": "[encoded data removed]"
          },
          "metadata": {}
        }
      ]
    },
    {
      "cell_type": "markdown",
      "source": [
        "Alfin el Fin delfin"
      ],
      "metadata": {
        "id": "lqb7n_v2kcea"
      }
    },
    {
      "cell_type": "code",
      "source": [
        "print(\"y si se pregunta porque lo hice tarde, recien estoy aprendiendo IA\")"
      ],
      "metadata": {
        "colab": {
          "base_uri": "https://localhost:8080/"
        },
        "id": "9UKXjIVxkiyp",
        "outputId": "f30563b6-e35c-4922-c96f-fbfcf689dcb7"
      },
      "execution_count": 44,
      "outputs": [
        {
          "output_type": "stream",
          "name": "stdout",
          "text": [
            "y si se pregunta porque lo hice tarde, recien estoy aprendiendo IA\n"
          ]
        }
      ]
    },
    {
      "cell_type": "code",
      "source": [
        "perint(\"Si revisan los deberes\")"
      ],
      "metadata": {
        "id": "bNzbxriakpYO"
      },
      "execution_count": null,
      "outputs": []
    }
  ]
}